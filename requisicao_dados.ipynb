{
 "cells": [
  {
   "cell_type": "markdown",
   "id": "999276ae",
   "metadata": {},
   "source": [
    "ID das ligas que serao usadas:\n",
    "- Bundesliga (Alemanha): 78\n",
    "- LALIGA (Espanha): 140\n",
    "- Campeonato Brasileiro (Brasil): 71\n",
    "- Ligue 1 (Franca): 61\n",
    "- Premier League (Inglaterra): 39"
   ]
  },
  {
   "cell_type": "code",
   "execution_count": null,
   "id": "358c8acc",
   "metadata": {},
   "outputs": [],
   "source": [
    "from dotenv import load_dotenv\n",
    "import os\n",
    "\n",
    "load_dotenv()\n",
    "API_KEY = os.getenv(\"API_KEY\")"
   ]
  },
  {
   "cell_type": "code",
   "execution_count": null,
   "id": "60c9fd0e",
   "metadata": {},
   "outputs": [],
   "source": [
    "import requests\n",
    "\n",
    "url = \"v3.football.api-sports.io\""
   ]
  }
 ],
 "metadata": {
  "kernelspec": {
   "display_name": "Python 3",
   "language": "python",
   "name": "python3"
  },
  "language_info": {
   "codemirror_mode": {
    "name": "ipython",
    "version": 3
   },
   "file_extension": ".py",
   "mimetype": "text/x-python",
   "name": "python",
   "nbconvert_exporter": "python",
   "pygments_lexer": "ipython3",
   "version": "3.12.6"
  }
 },
 "nbformat": 4,
 "nbformat_minor": 5
}
